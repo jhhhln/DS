{
 "cells": [
  {
   "cell_type": "code",
   "execution_count": 2,
   "id": "32773d60",
   "metadata": {},
   "outputs": [],
   "source": [
    "import numpy as np\n",
    "from demand import sample_generation\n",
    "import itertools\n",
    "import pandas as pd\n",
    "from tqdm import tqdm\n",
    "from D_1_policy import dual_sourcing"
   ]
  },
  {
   "cell_type": "code",
   "execution_count": null,
   "id": "fe8c6296",
   "metadata": {},
   "outputs": [
    {
     "name": "stderr",
     "output_type": "stream",
     "text": [
      "0it [00:00, ?it/s]"
     ]
    },
    {
     "name": "stdout",
     "output_type": "stream",
     "text": [
      "0 197 7166\n",
      "single_result 3162.570301408636\n",
      "ddi_result 3126.7623505359124\n",
      "tbs_result 3153.073109828898\n",
      "benckmark_tbs_result 3202.818721711699\n",
      "benckmark_di_result 3154.3135713553997\n",
      "最优的delta为229.4444009934264,对应的最优Se为203.469563145114\n",
      "di_result 3152.9523026310912\n",
      "1 8378 4913\n",
      "single_result 3095.31576134028\n",
      "ddi_result 3060.9758970457697\n"
     ]
    }
   ],
   "source": [
    "# 固定参数\n",
    "c_r = 0\n",
    "h = 1\n",
    "T = 90\n",
    "N = 1000\n",
    "N_1 = 100\n",
    "\n",
    "# 参数范围\n",
    "c_e_list = [1, 2]\n",
    "lt_pairs = [(3, 1), (5, 2), (10, 3)]\n",
    "# l_r_list = [2, 3, 5, 10]\n",
    "# l_e_list = [1, 2, 3]\n",
    "service_level_list = [0.95, 0.975, 0.99]\n",
    "# distributions = [(\"norm\", (100, 10)), (\"geom\", (0.4)), (\"binom\", (100, 0.5))]\n",
    "distributions = [(\"norm\", (100, 10))]\n",
    "results = []\n",
    "\n",
    "# 遍历所有组合\n",
    "for dist, c_e, lt_pair, service_level in \\\n",
    "    tqdm(itertools.product(distributions, c_e_list, lt_pairs, service_level_list)):\n",
    "    l_r, l_e = lt_pair\n",
    "    b = c_e + h * (l_r + 1)\n",
    "    \n",
    "    if b/(b+h)>=service_level:  # 跳过不符合条件的组合\n",
    "        continue\n",
    "\n",
    "    # if dist[0]=='norm':\n",
    "    #     mean=100\n",
    "    # elif dist[0]=='geom':\n",
    "    #     mean=2.5\n",
    "    # elif dist[0]=='binom':\n",
    "    #     mean=50\n",
    "\n",
    "    for seed_id in range(10):  # 10个随机种子测试稳定性\n",
    "        \n",
    "        random_seed1 = np.random.randint(10000)\n",
    "        random_seed2 = np.random.randint(10000)\n",
    "        print(seed_id, random_seed1, random_seed2)\n",
    "        demand = sample_generation(dist, (N, T), random_seed=random_seed1)\n",
    "        demand[demand < 0] = 0\n",
    "        sample = sample_generation(dist, (N_1, 1000), random_seed=random_seed2)\n",
    "        sample[sample < 0] = 0\n",
    "\n",
    "        ds = dual_sourcing(c_r, c_e, h, b, l_r, l_e, demand, service_level)\n",
    "\n",
    "        # 运行各策略\n",
    "        try:\n",
    "            single_result = ds.single_source(demand, S=None, inventory_level=0)\n",
    "            print('single_result', single_result['average_total_cost'])\n",
    "            ddi_result = ds.DDI_policy(demand, Se=None, D_2_constraint=False, inventory_level=0)\n",
    "            print('ddi_result', ddi_result['average_total_cost'])\n",
    "            tbs_result = ds.TBS_policy(sample, demand, x_init=None, q_init=None)\n",
    "            print('tbs_result', tbs_result['average_total_cost'])\n",
    "            benckmark_tbs_result = ds.cost_driven_TBS_policy(sample, demand, x_init=None, q_init=None)\n",
    "            print('benckmark_tbs_result', benckmark_tbs_result['average_total_cost'])\n",
    "            benckmark_di_result = ds.benchmark_DI_policy(demand, sample, x_init=None, q_init=None, inventory_level=0)\n",
    "            print('benckmark_di_result', benckmark_di_result['average_total_cost'])\n",
    "            di_result = ds.DI_policy(demand,sample,x_init=None,q_init=None,inventory_level=0)\n",
    "            print('di_result', di_result['average_total_cost'])\n",
    "\n",
    "            # 存结果\n",
    "            results.append({\n",
    "                \"distribution\": dist[0],\n",
    "                \"c_e\": c_e,\n",
    "                \"l_r\": l_r,\n",
    "                \"l_e\": l_e,\n",
    "                \"service_level\": service_level,\n",
    "                \"seed_id\": seed_id,\n",
    "                \"b\": b,\n",
    "                \"single_cost\": single_result['average_total_cost'],\n",
    "                \"DDI_cost\": ddi_result['average_total_cost'],\n",
    "                \"TBS_cost\": tbs_result['average_total_cost'],\n",
    "                \"benckmark_TBS_result\": benckmark_tbs_result['average_total_cost'],\n",
    "                \"benckmark_DI_result\": benckmark_di_result['average_total_cost'],\n",
    "                \"DI_result\": di_result['average_total_cost'],\n",
    "                \"random_seed1\": random_seed1,\n",
    "                \"random_seed2\": random_seed2,\n",
    "            })\n",
    "        except Exception as e:\n",
    "            print(f\"mistake in {dist, c_e, l_r, l_e, service_level, seed_id}: {e}\")\n",
    "\n",
    "# 保存结果到 CSV\n",
    "df = pd.DataFrame(results)\n",
    "df.to_csv(f\"D1_result_{distributions[0][0]}.csv\", index=False, encoding='utf-8-sig')\n",
    "print(\"finished\")"
   ]
  },
  {
   "cell_type": "code",
   "execution_count": 5,
   "id": "3b4ce7c6",
   "metadata": {},
   "outputs": [
    {
     "data": {
      "text/plain": [
       "'D1_result_norm'"
      ]
     },
     "execution_count": 5,
     "metadata": {},
     "output_type": "execute_result"
    }
   ],
   "source": [
    "f\"D1_result_{distributions[0][0]}\""
   ]
  },
  {
   "cell_type": "code",
   "execution_count": null,
   "id": "cbe9867c",
   "metadata": {},
   "outputs": [],
   "source": []
  }
 ],
 "metadata": {
  "kernelspec": {
   "display_name": "Python 3",
   "language": "python",
   "name": "python3"
  },
  "language_info": {
   "codemirror_mode": {
    "name": "ipython",
    "version": 3
   },
   "file_extension": ".py",
   "mimetype": "text/x-python",
   "name": "python",
   "nbconvert_exporter": "python",
   "pygments_lexer": "ipython3",
   "version": "3.9.6"
  }
 },
 "nbformat": 4,
 "nbformat_minor": 5
}
